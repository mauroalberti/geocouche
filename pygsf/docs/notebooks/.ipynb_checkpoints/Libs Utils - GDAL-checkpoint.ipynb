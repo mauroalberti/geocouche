{
 "cells": [
  {
   "cell_type": "markdown",
   "metadata": {},
   "source": [
    "# Libs Utils - GDAL"
   ]
  },
  {
   "cell_type": "markdown",
   "metadata": {},
   "source": [
    "*May, 2018, Mauro Alberti, alberti.m65@gmail.com*"
   ]
  },
  {
   "cell_type": "markdown",
   "metadata": {},
   "source": [
    "## 1. Examples"
   ]
  },
  {
   "cell_type": "code",
   "execution_count": 8,
   "metadata": {},
   "outputs": [],
   "source": [
    "from pygsf.libs_utils.gdal.gdal import * "
   ]
  },
  {
   "cell_type": "markdown",
   "metadata": {},
   "source": [
    "Reading an example data"
   ]
  },
  {
   "cell_type": "code",
   "execution_count": 9,
   "metadata": {},
   "outputs": [],
   "source": [
    "data_path = \"/home/mauro/Documents/projects/gsf/pygsf/example_data/vx.asc\"  # change accordingly"
   ]
  },
  {
   "cell_type": "code",
   "execution_count": 10,
   "metadata": {},
   "outputs": [],
   "source": [
    "dataset, geotransform, num_bands, projection = read_raster(data_path)"
   ]
  },
  {
   "cell_type": "code",
   "execution_count": 11,
   "metadata": {},
   "outputs": [],
   "source": [
    "band_params, band_array = read_band(dataset, 1)"
   ]
  },
  {
   "cell_type": "code",
   "execution_count": 12,
   "metadata": {},
   "outputs": [
    {
     "name": "stdout",
     "output_type": "stream",
     "text": [
      "Geotransform: [ 5.8666140e+05  3.5620000e+02  0.0000000e+00  1.7072666e+06\n",
      "  0.0000000e+00 -3.5620000e+02]\n",
      "Number of bands: 1\n",
      "Projection: \n",
      "Data type: Float32\n",
      "Unit type: \n",
      "Statistics: {'mean': 0.0, 'max': 0.0, 'min': 0.0, 'std_dev': -1.0}\n",
      "No data value: -9999.0\n",
      "Number of overviews: 0\n",
      "Number of color table entries: 0\n"
     ]
    }
   ],
   "source": [
    "print(\"Geotransform: {}\".format(geotransform))\n",
    "print(\"Number of bands: {}\".format(num_bands))\n",
    "print(\"Projection: {}\".format(projection))\n",
    "print(\"Data type: {}\".format(band_params[\"dataType\"]))\n",
    "print(\"Unit type: {}\".format(band_params[\"unitType\"]))\n",
    "print(\"Statistics: {}\".format(band_params[\"stats\"]))\n",
    "print(\"No data value: {}\".format(band_params[\"noData\"]))\n",
    "print(\"Number of overviews: {}\".format(band_params[\"numOverviews\"]))\n",
    "print(\"Number of color table entries: {}\".format(band_params[\"numColorTableEntries\"]))"
   ]
  }
 ],
 "metadata": {
  "kernelspec": {
   "display_name": "Python 3",
   "language": "python",
   "name": "python3"
  },
  "language_info": {
   "codemirror_mode": {
    "name": "ipython",
    "version": 3
   },
   "file_extension": ".py",
   "mimetype": "text/x-python",
   "name": "python",
   "nbconvert_exporter": "python",
   "pygments_lexer": "ipython3",
   "version": "3.5.2"
  }
 },
 "nbformat": 4,
 "nbformat_minor": 2
}

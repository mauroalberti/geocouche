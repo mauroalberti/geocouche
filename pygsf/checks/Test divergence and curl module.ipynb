{
 "cells": [
  {
   "cell_type": "markdown",
   "metadata": {},
   "source": [
    "# Test divergence and curl module"
   ]
  },
  {
   "cell_type": "markdown",
   "metadata": {},
   "source": [
    "This document present tests on divergence and curl module calculation using pygsf."
   ]
  },
  {
   "cell_type": "markdown",
   "metadata": {},
   "source": [
    "## Preliminary settings"
   ]
  },
  {
   "cell_type": "markdown",
   "metadata": {},
   "source": [
    "The modules to import for dealing with grids are:"
   ]
  },
  {
   "cell_type": "code",
   "execution_count": 1,
   "metadata": {},
   "outputs": [],
   "source": [
    "from pygsf.mathematics.arrays import *"
   ]
  },
  {
   "cell_type": "code",
   "execution_count": 2,
   "metadata": {},
   "outputs": [],
   "source": [
    "from pygsf.spatial.rasters.geotransform import *"
   ]
  },
  {
   "cell_type": "code",
   "execution_count": 3,
   "metadata": {},
   "outputs": [],
   "source": [
    "from pygsf.spatial.rasters.fields import *"
   ]
  },
  {
   "cell_type": "markdown",
   "metadata": {},
   "source": [
    "## Divergence in 2D"
   ]
  },
  {
   "cell_type": "markdown",
   "metadata": {},
   "source": [
    "The definition of divergence for our 2D case is:"
   ]
  },
  {
   "cell_type": "markdown",
   "metadata": {},
   "source": [
    "\\begin{align}\n",
    "divergence = \\nabla \\cdot \\vec{\\mathbf{v}} & = \\frac{\\partial{v_x}}{\\partial x} + \\frac{\\partial{v_y}}{\\partial y}\n",
    "\\end{align}"
   ]
  },
  {
   "cell_type": "markdown",
   "metadata": {},
   "source": [
    "## Curl module in 2D"
   ]
  },
  {
   "cell_type": "markdown",
   "metadata": {},
   "source": [
    "The definition of curl module in our 2D case is:"
   ]
  },
  {
   "cell_type": "markdown",
   "metadata": {},
   "source": [
    "\\begin{equation*}\n",
    "\\nabla \\times \\vec{\\mathbf{v}} =  \\begin{vmatrix}\n",
    "\\mathbf{i} & \\mathbf{j} & \\mathbf{k} \\\\\n",
    "\\frac{\\partial }{\\partial x} &  \\frac{\\partial }{\\partial y} & \\frac{\\partial }{\\partial z} \\\\\n",
    "{v_x} &  {v_y} & 0\n",
    "\\end{vmatrix}\n",
    "\\end{equation*}"
   ]
  },
  {
   "cell_type": "markdown",
   "metadata": {},
   "source": [
    "so that the module of the curl is:"
   ]
  },
  {
   "cell_type": "markdown",
   "metadata": {},
   "source": [
    "\\begin{equation*}\n",
    " |curl| = \\frac{\\partial v_y}{\\partial x} - \\frac{\\partial v_x}{\\partial y}\n",
    "\\end{equation*}"
   ]
  },
  {
   "cell_type": "markdown",
   "metadata": {},
   "source": [
    "The implementation of the curl module calculation has been debugged using the code at [2]  by Johnny Lin. Deviations from the expected theoretical values are the same for both implementations."
   ]
  },
  {
   "cell_type": "markdown",
   "metadata": {},
   "source": [
    "## Vector field parameters: testing divergence"
   ]
  },
  {
   "cell_type": "markdown",
   "metadata": {},
   "source": [
    "We calculate a theoretical, 2D vector field and check that the parameters calculated by *pygsf* is equal to the expected one.\n",
    "\n",
    "We use a modified example from p. 67 in [3]."
   ]
  },
  {
   "cell_type": "markdown",
   "metadata": {},
   "source": [
    "\\begin{equation*}\n",
    " \\vec{\\mathbf{v}} = 0.0001 x y^3  \\vec{\\mathbf{i}} - 0.0002  x^2 y  \\vec{\\mathbf{j}} + 0  \\vec{\\mathbf{k}}\n",
    "\\end{equation*}\n",
    "\n"
   ]
  },
  {
   "cell_type": "markdown",
   "metadata": {},
   "source": [
    "In order to create the two grids that represent the x- and the y-components, we therefore define the following two \"transfer\" functions from coordinates to z values: "
   ]
  },
  {
   "cell_type": "code",
   "execution_count": 4,
   "metadata": {},
   "outputs": [],
   "source": [
    "def z_func_fx(x, y):\n",
    "\n",
    "    return 0.0001 * x * y**3\n",
    "\n",
    "def z_func_fy(x, y):\n",
    "\n",
    "    return - 0.0002 * x**2 * y"
   ]
  },
  {
   "cell_type": "markdown",
   "metadata": {},
   "source": [
    "The above functions define the value of the cells, using the given x and y geographic coordinates."
   ]
  },
  {
   "cell_type": "markdown",
   "metadata": {},
   "source": [
    "### geotransform and grid definitions"
   ]
  },
  {
   "cell_type": "markdown",
   "metadata": {},
   "source": [
    "Gridded field values are calculated for the theoretical source vector field x- and y- components using the provided number of rows and columns for the grid:"
   ]
  },
  {
   "cell_type": "code",
   "execution_count": 5,
   "metadata": {},
   "outputs": [],
   "source": [
    "rows=100; cols=200"
   ]
  },
  {
   "cell_type": "code",
   "execution_count": 6,
   "metadata": {},
   "outputs": [],
   "source": [
    "size_x = 10; size_y = 10"
   ]
  },
  {
   "cell_type": "code",
   "execution_count": 7,
   "metadata": {},
   "outputs": [],
   "source": [
    "tlx = 500.0; tly = 250.0 "
   ]
  },
  {
   "cell_type": "markdown",
   "metadata": {},
   "source": [
    "Arrays components are defined in terms of indices *i* and *j*, so to transform array indices to geographical coordinates we use a geotransform. The one chosen is:"
   ]
  },
  {
   "cell_type": "code",
   "execution_count": 8,
   "metadata": {},
   "outputs": [],
   "source": [
    "gt1 = GeoTransform(\n",
    "    inTopLeftX=tlx, \n",
    "    inTopLeftY=tly, \n",
    "    inPixWidth=size_x, \n",
    "    inPixHeight=size_y)"
   ]
  },
  {
   "cell_type": "markdown",
   "metadata": {},
   "source": [
    "Note that the chosen geotransform has no axis rotation, as is in the most part of cases with geographic grids."
   ]
  },
  {
   "cell_type": "markdown",
   "metadata": {},
   "source": [
    "### vector field x-component"
   ]
  },
  {
   "cell_type": "code",
   "execution_count": 9,
   "metadata": {},
   "outputs": [],
   "source": [
    "fx1 = array_from_function(\n",
    "    row_num=rows, \n",
    "    col_num=cols, \n",
    "    geotransform=gt1, \n",
    "    z_transfer_func=z_func_fx)"
   ]
  },
  {
   "cell_type": "markdown",
   "metadata": {},
   "source": [
    "### vector field y-component"
   ]
  },
  {
   "cell_type": "code",
   "execution_count": 10,
   "metadata": {},
   "outputs": [],
   "source": [
    "fy1 = array_from_function(\n",
    "    row_num=rows, \n",
    "    col_num=cols, \n",
    "    geotransform=gt1, \n",
    "    z_transfer_func=z_func_fy)"
   ]
  },
  {
   "cell_type": "markdown",
   "metadata": {},
   "source": [
    "### theoretical divergence"
   ]
  },
  {
   "cell_type": "markdown",
   "metadata": {},
   "source": [
    "the theoretical divergence transfer function is:"
   ]
  },
  {
   "cell_type": "code",
   "execution_count": 11,
   "metadata": {},
   "outputs": [],
   "source": [
    "def z_func_div(x, y):\n",
    "    \n",
    "    return 0.0001 * y**3 - 0.0002 * x**2"
   ]
  },
  {
   "cell_type": "markdown",
   "metadata": {},
   "source": [
    "The theoretical divergence field can be created using the function expressing the analytical derivatives *z_func_div*:"
   ]
  },
  {
   "cell_type": "code",
   "execution_count": 12,
   "metadata": {},
   "outputs": [],
   "source": [
    "theor_div = array_from_function(\n",
    "    row_num=rows, \n",
    "    col_num=cols, \n",
    "    geotransform=gt1, \n",
    "    z_transfer_func=z_func_div)"
   ]
  },
  {
   "cell_type": "markdown",
   "metadata": {},
   "source": [
    "### pygsf-estimated divergence"
   ]
  },
  {
   "cell_type": "markdown",
   "metadata": {},
   "source": [
    "Divergence as resulting from pygsf calculation:"
   ]
  },
  {
   "cell_type": "code",
   "execution_count": 13,
   "metadata": {},
   "outputs": [],
   "source": [
    "div = divergence(\n",
    "    fld_x=fx1, \n",
    "    fld_y=fy1, \n",
    "    cell_size_x=size_x, \n",
    "    cell_size_y=size_y)"
   ]
  },
  {
   "cell_type": "markdown",
   "metadata": {},
   "source": [
    "We check whether the theoretical and the estimated divergence fields are close:"
   ]
  },
  {
   "cell_type": "code",
   "execution_count": 14,
   "metadata": {},
   "outputs": [],
   "source": [
    "assert np.allclose(theor_div, div)"
   ]
  },
  {
   "cell_type": "markdown",
   "metadata": {},
   "source": [
    "## Vector field parameters: testing curl module"
   ]
  },
  {
   "cell_type": "markdown",
   "metadata": {},
   "source": [
    "We test another theoretical, 2D vector field, maintaining the same geotransform and other grid parameters as in the previous example. We use the field described in example 1 in [4]:"
   ]
  },
  {
   "cell_type": "markdown",
   "metadata": {},
   "source": [
    "\\begin{equation*}\n",
    " \\vec{\\mathbf{v}} = y  \\vec{\\mathbf{i}} - x  \\vec{\\mathbf{j}} + 0  \\vec{\\mathbf{k}}\n",
    "\\end{equation*}\n",
    "\n"
   ]
  },
  {
   "cell_type": "markdown",
   "metadata": {},
   "source": [
    "The \"transfer\" functions from coordinates to z values are: "
   ]
  },
  {
   "cell_type": "code",
   "execution_count": 15,
   "metadata": {},
   "outputs": [],
   "source": [
    "def z_func_fx(x, y):\n",
    "\n",
    "    return y\n",
    "\n",
    "def z_func_fy(x, y):\n",
    "\n",
    "    return - x"
   ]
  },
  {
   "cell_type": "markdown",
   "metadata": {},
   "source": [
    "### geotransform and grid definitions"
   ]
  },
  {
   "cell_type": "markdown",
   "metadata": {},
   "source": [
    "Gridded field values are calculated for the theoretical source vector field x- and y- components using the provided number of rows and columns for the grid:"
   ]
  },
  {
   "cell_type": "code",
   "execution_count": 16,
   "metadata": {},
   "outputs": [],
   "source": [
    "rows=200; cols=200"
   ]
  },
  {
   "cell_type": "code",
   "execution_count": 17,
   "metadata": {},
   "outputs": [],
   "source": [
    "size_x = 10; size_y = 10"
   ]
  },
  {
   "cell_type": "code",
   "execution_count": 18,
   "metadata": {},
   "outputs": [],
   "source": [
    "tlx = -1000.0; tly = 1000.0 "
   ]
  },
  {
   "cell_type": "markdown",
   "metadata": {},
   "source": [
    "Arrays components are defined in terms of indices *i* and *j*, so to transform array indices to geographical coordinates we use a geotransform. The one chosen is:"
   ]
  },
  {
   "cell_type": "code",
   "execution_count": 19,
   "metadata": {},
   "outputs": [],
   "source": [
    "gt1 = GeoTransform(\n",
    "    inTopLeftX=tlx, \n",
    "    inTopLeftY=tly, \n",
    "    inPixWidth=size_x, \n",
    "    inPixHeight=size_y)"
   ]
  },
  {
   "cell_type": "markdown",
   "metadata": {},
   "source": [
    "Note that the chosen geotransform has no axis rotation, as is in the most part of cases with geographic grids."
   ]
  },
  {
   "cell_type": "markdown",
   "metadata": {},
   "source": [
    "### vector field x-component"
   ]
  },
  {
   "cell_type": "code",
   "execution_count": 20,
   "metadata": {},
   "outputs": [],
   "source": [
    "fx2 = array_from_function(\n",
    "    row_num=rows, \n",
    "    col_num=cols, \n",
    "    geotransform=gt1, \n",
    "    z_transfer_func=z_func_fx)"
   ]
  },
  {
   "cell_type": "markdown",
   "metadata": {},
   "source": [
    "### vector field y-component"
   ]
  },
  {
   "cell_type": "code",
   "execution_count": 21,
   "metadata": {},
   "outputs": [],
   "source": [
    "fy2 = array_from_function(\n",
    "    row_num=rows, \n",
    "    col_num=cols, \n",
    "    geotransform=gt1, \n",
    "    z_transfer_func=z_func_fy)"
   ]
  },
  {
   "cell_type": "markdown",
   "metadata": {},
   "source": [
    "### theoretical curl module"
   ]
  },
  {
   "cell_type": "markdown",
   "metadata": {},
   "source": [
    "The theoretical curl module is a constant value:"
   ]
  },
  {
   "cell_type": "markdown",
   "metadata": {},
   "source": [
    "\\begin{equation*}\n",
    " curl = -2\n",
    "\\end{equation*}"
   ]
  },
  {
   "cell_type": "markdown",
   "metadata": {},
   "source": [
    "### pygsf-estimated module of curl"
   ]
  },
  {
   "cell_type": "markdown",
   "metadata": {},
   "source": [
    "The module of curl as resulting from pygsf calculation is:"
   ]
  },
  {
   "cell_type": "code",
   "execution_count": 22,
   "metadata": {},
   "outputs": [],
   "source": [
    "curl_mod = curl_module(\n",
    "    fld_x=fx2, \n",
    "    fld_y=fy2, \n",
    "    cell_size_x=size_x, \n",
    "    cell_size_y=size_y)"
   ]
  },
  {
   "cell_type": "markdown",
   "metadata": {},
   "source": [
    "We check whether the theoretical and the estimated curl module fields are close:"
   ]
  },
  {
   "cell_type": "code",
   "execution_count": 23,
   "metadata": {},
   "outputs": [],
   "source": [
    "assert np.allclose(-2.0, curl_mod)"
   ]
  }
 ],
 "metadata": {
  "kernelspec": {
   "display_name": "Python 3",
   "language": "python",
   "name": "python3"
  },
  "language_info": {
   "codemirror_mode": {
    "name": "ipython",
    "version": 3
   },
   "file_extension": ".py",
   "mimetype": "text/x-python",
   "name": "python",
   "nbconvert_exporter": "python",
   "pygments_lexer": "ipython3",
   "version": "3.5.2"
  }
 },
 "nbformat": 4,
 "nbformat_minor": 2
}

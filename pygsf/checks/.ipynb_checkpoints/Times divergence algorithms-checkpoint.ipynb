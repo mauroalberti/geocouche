{
 "cells": [
  {
   "cell_type": "markdown",
   "metadata": {},
   "source": [
    "From: https://stackoverflow.com/questions/11435809/compute-divergence-of-vector-field-using-python"
   ]
  },
  {
   "cell_type": "code",
   "execution_count": 1,
   "metadata": {},
   "outputs": [],
   "source": [
    "import numpy as np"
   ]
  },
  {
   "cell_type": "code",
   "execution_count": 2,
   "metadata": {},
   "outputs": [],
   "source": [
    "def divergence(F):\n",
    "    \"\"\" compute the divergence of n-D scalar field `F` \"\"\"\n",
    "    return reduce(np.add,np.gradient(F))"
   ]
  },
  {
   "cell_type": "code",
   "execution_count": 3,
   "metadata": {},
   "outputs": [],
   "source": [
    "F = np.random.rand(100,100, 2)"
   ]
  },
  {
   "cell_type": "code",
   "execution_count": 4,
   "metadata": {},
   "outputs": [
    {
     "data": {
      "text/plain": [
       "array([[[0.8309781 , 0.7583944 ],\n",
       "        [0.88322921, 0.274582  ],\n",
       "        [0.14286456, 0.8010026 ],\n",
       "        ...,\n",
       "        [0.69006129, 0.86605906],\n",
       "        [0.58184053, 0.11968498],\n",
       "        [0.8344041 , 0.65732281]],\n",
       "\n",
       "       [[0.32583804, 0.62316064],\n",
       "        [0.24107316, 0.12332573],\n",
       "        [0.73095455, 0.00981541],\n",
       "        ...,\n",
       "        [0.79910124, 0.32013929],\n",
       "        [0.66649508, 0.66257074],\n",
       "        [0.34204798, 0.35378482]],\n",
       "\n",
       "       [[0.16205502, 0.92953131],\n",
       "        [0.38594994, 0.9358332 ],\n",
       "        [0.1068871 , 0.64052787],\n",
       "        ...,\n",
       "        [0.2328214 , 0.9179261 ],\n",
       "        [0.99095834, 0.9711499 ],\n",
       "        [0.87065886, 0.21513783]],\n",
       "\n",
       "       ...,\n",
       "\n",
       "       [[0.72312426, 0.88729952],\n",
       "        [0.21048511, 0.06933395],\n",
       "        [0.8645752 , 0.25733672],\n",
       "        ...,\n",
       "        [0.45016759, 0.60610769],\n",
       "        [0.41126202, 0.25861989],\n",
       "        [0.54822108, 0.8586362 ]],\n",
       "\n",
       "       [[0.45138134, 0.17949857],\n",
       "        [0.5146927 , 0.35091362],\n",
       "        [0.80898221, 0.75460091],\n",
       "        ...,\n",
       "        [0.03240326, 0.05349207],\n",
       "        [0.16500886, 0.70159113],\n",
       "        [0.92716411, 0.67500229]],\n",
       "\n",
       "       [[0.48031569, 0.98790519],\n",
       "        [0.76599555, 0.58200885],\n",
       "        [0.20424332, 0.20044698],\n",
       "        ...,\n",
       "        [0.46411493, 0.06292719],\n",
       "        [0.93264516, 0.90471222],\n",
       "        [0.24325688, 0.84625095]]])"
      ]
     },
     "execution_count": 4,
     "metadata": {},
     "output_type": "execute_result"
    }
   ],
   "source": [
    "F"
   ]
  },
  {
   "cell_type": "code",
   "execution_count": 5,
   "metadata": {},
   "outputs": [
    {
     "data": {
      "text/plain": [
       "3"
      ]
     },
     "execution_count": 5,
     "metadata": {},
     "output_type": "execute_result"
    }
   ],
   "source": [
    "F.ndim"
   ]
  },
  {
   "cell_type": "code",
   "execution_count": 6,
   "metadata": {},
   "outputs": [
    {
     "data": {
      "text/plain": [
       "(100, 100, 2)"
      ]
     },
     "execution_count": 6,
     "metadata": {},
     "output_type": "execute_result"
    }
   ],
   "source": [
    "F.shape"
   ]
  },
  {
   "cell_type": "code",
   "execution_count": 7,
   "metadata": {},
   "outputs": [],
   "source": [
    "from functools import reduce"
   ]
  },
  {
   "cell_type": "code",
   "execution_count": 8,
   "metadata": {},
   "outputs": [],
   "source": [
    "def divergence_a(field):\n",
    "    \"return the divergence of a n-D field\"\n",
    "    return np.sum(np.gradient(field),axis=0)"
   ]
  },
  {
   "cell_type": "code",
   "execution_count": 9,
   "metadata": {},
   "outputs": [
    {
     "name": "stdout",
     "output_type": "stream",
     "text": [
      "3 ms ± 220 µs per loop (mean ± std. dev. of 7 runs, 100 loops each)\n"
     ]
    }
   ],
   "source": [
    "timeit divergence_a(F)"
   ]
  },
  {
   "cell_type": "code",
   "execution_count": 10,
   "metadata": {},
   "outputs": [],
   "source": [
    "d_a = divergence(F)"
   ]
  },
  {
   "cell_type": "code",
   "execution_count": 11,
   "metadata": {},
   "outputs": [
    {
     "data": {
      "text/plain": [
       "(100, 100, 2)"
      ]
     },
     "execution_count": 11,
     "metadata": {},
     "output_type": "execute_result"
    }
   ],
   "source": [
    "d_a.shape"
   ]
  },
  {
   "cell_type": "code",
   "execution_count": 12,
   "metadata": {},
   "outputs": [],
   "source": [
    "def divergence_b(F):\n",
    "    \"\"\" compute the divergence of n-D scalar field `F` \"\"\"\n",
    "    return reduce(np.add,np.gradient(F))"
   ]
  },
  {
   "cell_type": "code",
   "execution_count": 13,
   "metadata": {},
   "outputs": [
    {
     "name": "stdout",
     "output_type": "stream",
     "text": [
      "2.49 ms ± 156 µs per loop (mean ± std. dev. of 7 runs, 100 loops each)\n"
     ]
    }
   ],
   "source": [
    "timeit divergence_b(F)"
   ]
  },
  {
   "cell_type": "code",
   "execution_count": 14,
   "metadata": {},
   "outputs": [],
   "source": [
    "d_b = divergence_b(F)"
   ]
  },
  {
   "cell_type": "code",
   "execution_count": 15,
   "metadata": {},
   "outputs": [
    {
     "data": {
      "text/plain": [
       "(100, 100, 2)"
      ]
     },
     "execution_count": 15,
     "metadata": {},
     "output_type": "execute_result"
    }
   ],
   "source": [
    "d_b.shape"
   ]
  },
  {
   "cell_type": "code",
   "execution_count": 16,
   "metadata": {},
   "outputs": [
    {
     "data": {
      "text/plain": [
       "True"
      ]
     },
     "execution_count": 16,
     "metadata": {},
     "output_type": "execute_result"
    }
   ],
   "source": [
    "np.allclose(d_a, d_b)"
   ]
  },
  {
   "cell_type": "code",
   "execution_count": 17,
   "metadata": {},
   "outputs": [],
   "source": [
    "F = np.random.rand(100,100, 2)"
   ]
  },
  {
   "cell_type": "code",
   "execution_count": 18,
   "metadata": {},
   "outputs": [],
   "source": [
    "def my_divergence(F):\n",
    "    dvx_dx = np.gradient(F[:, :, 0])[1]\n",
    "    dvy_dy = -(np.gradient(F[:, :, 1])[0])\n",
    "    return dvx_dx + dvy_dy"
   ]
  },
  {
   "cell_type": "code",
   "execution_count": 19,
   "metadata": {},
   "outputs": [
    {
     "name": "stdout",
     "output_type": "stream",
     "text": [
      "2.06 ms ± 508 µs per loop (mean ± std. dev. of 7 runs, 100 loops each)\n"
     ]
    }
   ],
   "source": [
    "timeit my_divergence(F)"
   ]
  },
  {
   "cell_type": "code",
   "execution_count": 20,
   "metadata": {},
   "outputs": [],
   "source": [
    "d_m = my_divergence(F)"
   ]
  },
  {
   "cell_type": "code",
   "execution_count": 21,
   "metadata": {},
   "outputs": [],
   "source": [
    "F1, F2 = F[:, :, 0], F[:, :, 1]"
   ]
  },
  {
   "cell_type": "code",
   "execution_count": 22,
   "metadata": {},
   "outputs": [],
   "source": [
    "def my_divergence_split(F1, F2):\n",
    "    dvx_dx = np.gradient(F1, axis=1)\n",
    "    dvy_dy = np.gradient(F2, axis=0)\n",
    "    return dvx_dx - dvy_dy"
   ]
  },
  {
   "cell_type": "code",
   "execution_count": 23,
   "metadata": {},
   "outputs": [
    {
     "name": "stdout",
     "output_type": "stream",
     "text": [
      "1.37 ms ± 511 µs per loop (mean ± std. dev. of 7 runs, 100 loops each)\n"
     ]
    }
   ],
   "source": [
    "timeit my_divergence_split(F1, F2)"
   ]
  },
  {
   "cell_type": "code",
   "execution_count": 24,
   "metadata": {},
   "outputs": [],
   "source": [
    "d_s = my_divergence_split(F1, F2)"
   ]
  },
  {
   "cell_type": "code",
   "execution_count": 25,
   "metadata": {},
   "outputs": [
    {
     "data": {
      "text/plain": [
       "True"
      ]
     },
     "execution_count": 25,
     "metadata": {},
     "output_type": "execute_result"
    }
   ],
   "source": [
    "np.allclose(d_m, d_s)"
   ]
  }
 ],
 "metadata": {
  "kernelspec": {
   "display_name": "Python 3",
   "language": "python",
   "name": "python3"
  },
  "language_info": {
   "codemirror_mode": {
    "name": "ipython",
    "version": 3
   },
   "file_extension": ".py",
   "mimetype": "text/x-python",
   "name": "python",
   "nbconvert_exporter": "python",
   "pygments_lexer": "ipython3",
   "version": "3.5.2"
  }
 },
 "nbformat": 4,
 "nbformat_minor": 2
}
